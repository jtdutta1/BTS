{
 "cells": [
  {
   "cell_type": "code",
   "execution_count": 1,
   "metadata": {},
   "outputs": [],
   "source": [
    "import os\n",
    "import numpy as np\n",
    "import pickle\n",
    "import SimpleITK as st"
   ]
  },
  {
   "cell_type": "code",
   "execution_count": 2,
   "metadata": {},
   "outputs": [],
   "source": [
    "path = 'mha_files'\n",
    "count = 0\n",
    "features = []\n",
    "labels = []\n",
    "\n",
    "list_dir = os.listdir(path)\n",
    "len_list_dir = len(list_dir)"
   ]
  },
  {
   "cell_type": "code",
   "execution_count": 3,
   "metadata": {},
   "outputs": [
    {
     "name": "stdout",
     "output_type": "stream",
     "text": [
      "Iteration #0/#220\n",
      "Iteration #1/#220\n",
      "Iteration #2/#220\n",
      "Iteration #3/#220\n",
      "Iteration #4/#220\n",
      "Iteration #5/#220\n",
      "Iteration #6/#220\n",
      "Iteration #7/#220\n",
      "Iteration #8/#220\n",
      "Iteration #9/#220\n",
      "Iteration #10/#220\n",
      "Iteration #11/#220\n",
      "Iteration #12/#220\n",
      "Iteration #13/#220\n",
      "Iteration #14/#220\n",
      "Iteration #15/#220\n",
      "Iteration #16/#220\n",
      "Iteration #17/#220\n",
      "Iteration #18/#220\n"
     ]
    },
    {
     "ename": "SystemError",
     "evalue": "<built-in function CurvatureFlow> returned a result with an error set",
     "output_type": "error",
     "traceback": [
      "\u001b[1;31m---------------------------------------------------------------------------\u001b[0m",
      "\u001b[1;31mKeyboardInterrupt\u001b[0m                         Traceback (most recent call last)",
      "\u001b[1;32mC:\\ProgramData\\Anaconda3\\lib\\site-packages\\SimpleITK-1.0.1-py3.6-win-amd64.egg\\SimpleITK\\SimpleITK.py\u001b[0m in \u001b[0;36m<lambda>\u001b[1;34m(self, name, value)\u001b[0m\n\u001b[0;32m   3667\u001b[0m     \u001b[0m__swig_setmethods__\u001b[0m \u001b[1;33m=\u001b[0m \u001b[1;33m{\u001b[0m\u001b[1;33m}\u001b[0m\u001b[1;33m\u001b[0m\u001b[0m\n\u001b[1;32m-> 3668\u001b[1;33m     \u001b[0m__setattr__\u001b[0m \u001b[1;33m=\u001b[0m \u001b[1;32mlambda\u001b[0m \u001b[0mself\u001b[0m\u001b[1;33m,\u001b[0m \u001b[0mname\u001b[0m\u001b[1;33m,\u001b[0m \u001b[0mvalue\u001b[0m\u001b[1;33m:\u001b[0m \u001b[0m_swig_setattr\u001b[0m\u001b[1;33m(\u001b[0m\u001b[0mself\u001b[0m\u001b[1;33m,\u001b[0m \u001b[0mImage\u001b[0m\u001b[1;33m,\u001b[0m \u001b[0mname\u001b[0m\u001b[1;33m,\u001b[0m \u001b[0mvalue\u001b[0m\u001b[1;33m)\u001b[0m\u001b[1;33m\u001b[0m\u001b[0m\n\u001b[0m\u001b[0;32m   3669\u001b[0m     \u001b[0m__swig_getmethods__\u001b[0m \u001b[1;33m=\u001b[0m \u001b[1;33m{\u001b[0m\u001b[1;33m}\u001b[0m\u001b[1;33m\u001b[0m\u001b[0m\n",
      "\u001b[1;31mKeyboardInterrupt\u001b[0m: ",
      "\nThe above exception was the direct cause of the following exception:\n",
      "\u001b[1;31mSystemError\u001b[0m                               Traceback (most recent call last)",
      "\u001b[1;32m<ipython-input-3-29843b89cf76>\u001b[0m in \u001b[0;36m<module>\u001b[1;34m()\u001b[0m\n\u001b[0;32m     13\u001b[0m     imgT1cSmooth = st.CurvatureFlow(image1=imgT1cOriginal,\n\u001b[0;32m     14\u001b[0m                                           \u001b[0mtimeStep\u001b[0m\u001b[1;33m=\u001b[0m\u001b[1;36m0.125\u001b[0m\u001b[1;33m,\u001b[0m\u001b[1;33m\u001b[0m\u001b[0m\n\u001b[1;32m---> 15\u001b[1;33m                                           numberOfIterations=5)\n\u001b[0m\u001b[0;32m     16\u001b[0m \u001b[1;33m\u001b[0m\u001b[0m\n\u001b[0;32m     17\u001b[0m     \u001b[0mpew\u001b[0m \u001b[1;33m=\u001b[0m \u001b[0mst\u001b[0m\u001b[1;33m.\u001b[0m\u001b[0mGetArrayFromImage\u001b[0m\u001b[1;33m(\u001b[0m\u001b[0mimgT1cSmooth\u001b[0m\u001b[1;33m[\u001b[0m\u001b[1;33m:\u001b[0m\u001b[1;33m,\u001b[0m\u001b[1;33m:\u001b[0m\u001b[1;33m,\u001b[0m\u001b[1;36m5\u001b[0m\u001b[1;33m:\u001b[0m\u001b[1;36m149\u001b[0m\u001b[1;33m]\u001b[0m\u001b[1;33m)\u001b[0m\u001b[1;33m\u001b[0m\u001b[0m\n",
      "\u001b[1;32mC:\\ProgramData\\Anaconda3\\lib\\site-packages\\SimpleITK-1.0.1-py3.6-win-amd64.egg\\SimpleITK\\SimpleITK.py\u001b[0m in \u001b[0;36mCurvatureFlow\u001b[1;34m(image1, timeStep, numberOfIterations)\u001b[0m\n\u001b[0;32m  22038\u001b[0m \u001b[1;33m\u001b[0m\u001b[0m\n\u001b[0;32m  22039\u001b[0m     \"\"\"\n\u001b[1;32m> 22040\u001b[1;33m     \u001b[1;32mreturn\u001b[0m \u001b[0m_SimpleITK\u001b[0m\u001b[1;33m.\u001b[0m\u001b[0mCurvatureFlow\u001b[0m\u001b[1;33m(\u001b[0m\u001b[0mimage1\u001b[0m\u001b[1;33m,\u001b[0m \u001b[0mtimeStep\u001b[0m\u001b[1;33m,\u001b[0m \u001b[0mnumberOfIterations\u001b[0m\u001b[1;33m)\u001b[0m\u001b[1;33m\u001b[0m\u001b[0m\n\u001b[0m\u001b[0;32m  22041\u001b[0m \u001b[1;32mclass\u001b[0m \u001b[0mCyclicShiftImageFilter\u001b[0m\u001b[1;33m(\u001b[0m\u001b[0mImageFilter_1\u001b[0m\u001b[1;33m)\u001b[0m\u001b[1;33m:\u001b[0m\u001b[1;33m\u001b[0m\u001b[0m\n\u001b[0;32m  22042\u001b[0m     \"\"\"\n",
      "\u001b[1;31mSystemError\u001b[0m: <built-in function CurvatureFlow> returned a result with an error set"
     ]
    }
   ],
   "source": [
    "for filename in list_dir:\n",
    "    print('Iteration #'+str(count)+'/#'+str(len_list_dir))\n",
    "    path_1 = os.path.join(path, filename)\n",
    "    l1 = os.listdir(path_1)\n",
    "    img_feature_path, img_label_path = os.path.join(path_1, l1[0]), os.path.join(path_1, l1[1])\n",
    "    #print(img_feature_path,' ', img_label_path)\n",
    "    \n",
    "    imgT1cOriginal = st.ReadImage(img_feature_path)\n",
    "    imgOT = st.ReadImage(img_label_path)\n",
    "    nda = st.GetArrayFromImage(imgT1cOriginal)\n",
    "    #print(nda.shape)\n",
    "    nda1 = st.GetArrayFromImage(imgOT[:,:,5:149])\n",
    "    imgT1cSmooth = st.CurvatureFlow(image1=imgT1cOriginal,\n",
    "                                          timeStep=0.125,                                       \n",
    "                                          numberOfIterations=5)\n",
    "    \n",
    "    pew = st.GetArrayFromImage(imgT1cSmooth[:,:,5:149])\n",
    "    features.append(pew)\n",
    "    #print(features)\n",
    "    labels.append(nda1)\n",
    "    count = count + 1"
   ]
  },
  {
   "cell_type": "code",
   "execution_count": null,
   "metadata": {},
   "outputs": [],
   "source": [
    "features = np.array(features)"
   ]
  },
  {
   "cell_type": "code",
   "execution_count": null,
   "metadata": {},
   "outputs": [],
   "source": [
    "labels = np.array(labels)"
   ]
  },
  {
   "cell_type": "code",
   "execution_count": null,
   "metadata": {},
   "outputs": [],
   "source": [
    "dataset = {'features' : features, 'labels' : labels}"
   ]
  },
  {
   "cell_type": "code",
   "execution_count": null,
   "metadata": {},
   "outputs": [],
   "source": [
    "with open('dataset.pickle','wb') as foo:\n",
    "    pickle.dump(dataset, foo, protocol = pickle.HIGHEST_PROTOCOL)"
   ]
  }
 ],
 "metadata": {
  "kernelspec": {
   "display_name": "Python 3",
   "language": "python",
   "name": "python3"
  },
  "language_info": {
   "codemirror_mode": {
    "name": "ipython",
    "version": 3
   },
   "file_extension": ".py",
   "mimetype": "text/x-python",
   "name": "python",
   "nbconvert_exporter": "python",
   "pygments_lexer": "ipython3",
   "version": "3.6.4"
  }
 },
 "nbformat": 4,
 "nbformat_minor": 2
}
