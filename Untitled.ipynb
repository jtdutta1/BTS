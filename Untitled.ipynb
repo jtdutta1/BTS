{
 "cells": [
  {
   "cell_type": "code",
   "execution_count": 1,
   "metadata": {},
   "outputs": [
    {
     "name": "stderr",
     "output_type": "stream",
     "text": [
      "C:\\ProgramData\\Anaconda3\\lib\\site-packages\\h5py\\__init__.py:36: FutureWarning: Conversion of the second argument of issubdtype from `float` to `np.floating` is deprecated. In future, it will be treated as `np.float64 == np.dtype(float).type`.\n",
      "  from ._conv import register_converters as _register_converters\n"
     ]
    }
   ],
   "source": [
    "import os\n",
    "import cv2\n",
    "import h5py\n",
    "import pickle\n",
    "import numpy as np"
   ]
  },
  {
   "cell_type": "code",
   "execution_count": 2,
   "metadata": {},
   "outputs": [
    {
     "name": "stdout",
     "output_type": "stream",
     "text": [
      "(158848, 240, 240, 3)\n",
      "(158848, 240, 240, 3)\n"
     ]
    }
   ],
   "source": [
    "x_train_path = './features/'\n",
    "x_test_path = './labels/'\n",
    "\n",
    "grade = ['HGG','LGG']\n",
    "MRI = ['Flair','T1','T1c','T2','OT']\n",
    "\n",
    "x_train = []\n",
    "y_train = []\n",
    "\n",
    "for G in grade:\n",
    "\tif (G=='HGG'):\n",
    "\t\tn = 220\n",
    "\tif (G=='LGG'):\n",
    "\t\tn = 54\n",
    "\tfor i in range(1,n):\n",
    "\t\tfor j in range(146):\n",
    "\t\t\tfor M in MRI:\n",
    "\t\t\t\tif (M=='OT'):\n",
    "\t\t\t\t\ty_train_img_path = x_test_path+G+'_'+str(i)+'_'+M+'_'+str(j)+'.png'\n",
    "\t\t\t\t\ty_train_img = cv2.imread(y_train_img_path)\n",
    "\t\t\t\t\ty_train.append(y_train_img)\n",
    "\t\t\t\t\ty_train.append(y_train_img)\n",
    "\t\t\t\t\ty_train.append(y_train_img)\n",
    "\t\t\t\t\ty_train.append(y_train_img)\n",
    "\t\t\t\telse:\n",
    "\t\t\t\t\tx_train_img_path = x_train_path+G+'_'+str(i)+'_'+M+'_'+str(j)+'.png'\n",
    "\t\t\t\t\tx_train_img = cv2.imread(x_train_img_path)\n",
    "\t\t\t\t\tx_train.append(x_train_img)\n",
    "\n",
    "x_train = np.array(x_train)\n",
    "y_train = np.array(y_train)\n",
    "\n",
    "print(x_train.shape)\n",
    "print(y_train.shape)"
   ]
  },
  {
   "cell_type": "code",
   "execution_count": 4,
   "metadata": {},
   "outputs": [],
   "source": [
    "hf = h5py.File('data.h5', 'w')\n",
    "\n",
    "hf.create_dataset('x_train', data=x_train, compression=\"gzip\", compression_opts=9)\n",
    "hf.create_dataset('y_train', data=y_train, compression=\"gzip\", compression_opts=9)\n",
    "\n",
    "hf.close()"
   ]
  },
  {
   "cell_type": "code",
   "execution_count": null,
   "metadata": {},
   "outputs": [],
   "source": []
  }
 ],
 "metadata": {
  "kernelspec": {
   "display_name": "Python 3",
   "language": "python",
   "name": "python3"
  },
  "language_info": {
   "codemirror_mode": {
    "name": "ipython",
    "version": 3
   },
   "file_extension": ".py",
   "mimetype": "text/x-python",
   "name": "python",
   "nbconvert_exporter": "python",
   "pygments_lexer": "ipython3",
   "version": "3.6.4"
  }
 },
 "nbformat": 4,
 "nbformat_minor": 2
}
