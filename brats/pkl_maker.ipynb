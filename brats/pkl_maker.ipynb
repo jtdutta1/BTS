{
 "cells": [
  {
   "cell_type": "code",
   "execution_count": 2,
   "metadata": {},
   "outputs": [],
   "source": [
    "import os\n",
    "import pickle\n",
    "import shutil"
   ]
  },
  {
   "cell_type": "code",
   "execution_count": 3,
   "metadata": {},
   "outputs": [],
   "source": [
    "path = 'BRATS2015_Training\\HGG'\n",
    "\n",
    "len(os.listdir(path))\n",
    "\n",
    "hgg_list = os.listdir(path)\n",
    "count = 0"
   ]
  },
  {
   "cell_type": "code",
   "execution_count": 4,
   "metadata": {},
   "outputs": [
    {
     "name": "stdout",
     "output_type": "stream",
     "text": [
      "copying files... 0.0% 10.0% 20.0% 30.0% 40.0% 50.0% 60.0% 70.0% 80.0% 90.0%done\n"
     ]
    }
   ],
   "source": [
    "print('copying files...',end='')\n",
    "for l in hgg_list:\n",
    "    perc = (count/220)*100\n",
    "    if(perc % 10 == 0):\n",
    "        print(' '+str(perc)+'%',end='')\n",
    "    path_1 = os.path.join(path, l)\n",
    "    l2 = os.listdir(path_1)\n",
    "    #print(l2)\n",
    "    path_21 = os.path.join(path_1, l2[0])\n",
    "    path_22 = os.path.join(path_1, l2[1])\n",
    "    path_23 = os.path.join(path_1, l2[2])\n",
    "    path_24 = os.path.join(path_1, l2[3])\n",
    "    path_25 = os.path.join(path_1, l2[4])\n",
    "    #print(os.listdir(path_2))\n",
    "    l31 = os.listdir(path_21)\n",
    "    l32 = os.listdir(path_22)\n",
    "    l33 = os.listdir(path_23)\n",
    "    l34 = os.listdir(path_24)\n",
    "    l35 = os.listdir(path_25)\n",
    "    #print(l4)\n",
    "    if(not os.path.exists('HGG\\\\' + str(count))):\n",
    "        os.makedirs('HGG\\\\' + str(count))\n",
    "    if(len(l31) > 1):\n",
    "        shutil.copy(os.path.join(path_21, l31[1]), 'HGG\\\\' + str(count))\n",
    "    else:\n",
    "        shutil.copy(os.path.join(path_21, l31[0]), 'HGG\\\\' + str(count))\n",
    "    if(len(l32) > 1):\n",
    "        shutil.copy(os.path.join(path_22, l32[1]), 'HGG\\\\' + str(count))\n",
    "    else:\n",
    "        shutil.copy(os.path.join(path_22, l32[0]), 'HGG\\\\' + str(count))\n",
    "    if(len(l33) > 1):\n",
    "        shutil.copy(os.path.join(path_23, l33[1]), 'HGG\\\\' + str(count))\n",
    "    else:\n",
    "        shutil.copy(os.path.join(path_23, l33[0]), 'HGG\\\\' + str(count))\n",
    "    if(len(l34) > 1):\n",
    "        shutil.copy(os.path.join(path_24, l34[1]), 'HGG\\\\' + str(count))\n",
    "    else:\n",
    "        shutil.copy(os.path.join(path_24, l34[0]), 'HGG\\\\' + str(count))\n",
    "    if(len(l35) > 1):\n",
    "        shutil.copy(os.path.join(path_25, l35[1]), 'HGG\\\\' + str(count))\n",
    "    else:\n",
    "        shutil.copy(os.path.join(path_25, l35[0]), 'HGG\\\\' + str(count))\n",
    "    count = count + 1\n",
    "print('done')"
   ]
  },
  {
   "cell_type": "code",
   "execution_count": null,
   "metadata": {},
   "outputs": [],
   "source": []
  }
 ],
 "metadata": {
  "kernelspec": {
   "display_name": "Python 3",
   "language": "python",
   "name": "python3"
  },
  "language_info": {
   "codemirror_mode": {
    "name": "ipython",
    "version": 3
   },
   "file_extension": ".py",
   "mimetype": "text/x-python",
   "name": "python",
   "nbconvert_exporter": "python",
   "pygments_lexer": "ipython3",
   "version": "3.6.4"
  }
 },
 "nbformat": 4,
 "nbformat_minor": 2
}
