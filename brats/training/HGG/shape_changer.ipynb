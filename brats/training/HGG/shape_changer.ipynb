{
 "cells": [
  {
   "cell_type": "code",
   "execution_count": 8,
   "metadata": {
    "collapsed": true
   },
   "outputs": [],
   "source": [
    "import os\n",
    "import numpy as np\n",
    "import pickle\n",
    "import cv2\n",
    "import matplotlib.pyplot as plt\n",
    "import SimpleITK as st\n",
    "%matplotlib inline"
   ]
  },
  {
   "cell_type": "code",
   "execution_count": 5,
   "metadata": {
    "collapsed": true
   },
   "outputs": [],
   "source": [
    "path = 'mha_files'\n",
    "\n",
    "count = 0\n",
    "features = []\n",
    "labels = []\n",
    "list_dir = os.listdir(path)\n",
    "len_list_dir = len(list_dir)"
   ]
  },
  {
   "cell_type": "code",
   "execution_count": 6,
   "metadata": {},
   "outputs": [
    {
     "name": "stdout",
     "output_type": "stream",
     "text": [
      "STARTED......................\n",
      " done ;)\n"
     ]
    }
   ],
   "source": [
    "print('STARTED', end ='')\n",
    "for filename in list_dir:\n",
    "    #print('Iteration #'+str(count)+'/#'+str(len_list_dir))\n",
    "    if(count % 10 == 0):\n",
    "        print('.',end='')\n",
    "    path_1 = os.path.join(path, filename)\n",
    "    l1 = os.listdir(path_1)\n",
    "    img_feature_path, img_label_path = os.path.join(path_1, l1[0]), os.path.join(path_1, l1[1])\n",
    "    #print(img_feature_path,' ', img_label_path)\n",
    "    \n",
    "    imgT1cOriginal = st.ReadImage(img_feature_path)\n",
    "    imgOT = st.ReadImage(img_label_path)\n",
    "    #nda = st.GetArrayFromImage(imgT1cOriginal[:, :, 50:100])\n",
    "    #print(nda.shape)\n",
    "    nda1 = st.GetArrayFromImage(imgOT[:, :, 50:100])\n",
    "    imgT1cSmooth = st.CurvatureFlow(image1=imgT1cOriginal,\n",
    "                                          timeStep=0.125,                                       \n",
    "                                          numberOfIterations=5)\n",
    "    \n",
    "    pew = st.GetArrayFromImage(imgT1cSmooth[:,:,50:100])\n",
    "    features.append(pew)\n",
    "    #print(features)\n",
    "    labels.append(nda1)\n",
    "    count = count + 1\n",
    "print('\\n done ;)')"
   ]
  },
  {
   "cell_type": "code",
   "execution_count": 24,
   "metadata": {},
   "outputs": [
    {
     "data": {
      "text/plain": [
       "(220, 50, 240, 240)"
      ]
     },
     "execution_count": 24,
     "metadata": {},
     "output_type": "execute_result"
    }
   ],
   "source": [
    "np.shape(features)"
   ]
  },
  {
   "cell_type": "code",
   "execution_count": 14,
   "metadata": {},
   "outputs": [
    {
     "data": {
      "text/plain": [
       "<matplotlib.image.AxesImage at 0x27e803f1a90>"
      ]
     },
     "execution_count": 14,
     "metadata": {},
     "output_type": "execute_result"
    },
    {
     "data": {
      "image/png": "[encoded data removed]",
      "text/plain": [
       "<matplotlib.figure.Figure at 0x27e8035dd68>"
      ]
     },
     "metadata": {},
     "output_type": "display_data"
    }
   ],
   "source": [
    "plt.imshow(features[0][15])"
   ]
  },
  {
   "cell_type": "code",
   "execution_count": 56,
   "metadata": {},
   "outputs": [
    {
     "data": {
      "text/plain": [
       "0.0"
      ]
     },
     "execution_count": 56,
     "metadata": {},
     "output_type": "execute_result"
    }
   ],
   "source": [
    "features[0][0][50][50]"
   ]
  },
  {
   "cell_type": "code",
   "execution_count": 95,
   "metadata": {
    "collapsed": true
   },
   "outputs": [],
   "source": [
    "def get_list(arr_sent):\n",
    "    l = []\n",
    "    l1 = []\n",
    "    l2 = []\n",
    "    c1 = 0;c2 = 0\n",
    "    for i in range(0,240):\n",
    "        #print(np.shape(i),end='\\t')\n",
    "        for j in range(0,240):\n",
    "            for k in arr_sent:\n",
    "                l.append(k[c1][c2])\n",
    "            l1.append(l)\n",
    "            c2 += 1\n",
    "            l =[]\n",
    "        c1 += 1\n",
    "        c2 = 0\n",
    "        l2.append(l1)\n",
    "        l1 = []   \n",
    "        #l.append(i[10][10])\n",
    "    #print(l)\n",
    "    return l2"
   ]
  },
  {
   "cell_type": "code",
   "execution_count": 98,
   "metadata": {},
   "outputs": [
    {
     "name": "stdout",
     "output_type": "stream",
     "text": [
      "Started......................\n",
      "done\n"
     ]
    }
   ],
   "source": [
    "final_l = []\n",
    "count = 0\n",
    "print('Started',end='')\n",
    "for i in features:\n",
    "    if(count % 10 == 0):\n",
    "        print('.',end='')\n",
    "    l1 = get_list(i)\n",
    "    final_l.append(l1)\n",
    "    count +=1\n",
    "print('\\ndone')"
   ]
  },
  {
   "cell_type": "code",
   "execution_count": null,
   "metadata": {
    "collapsed": true
   },
   "outputs": [],
   "source": []
  },
  {
   "cell_type": "code",
   "execution_count": 90,
   "metadata": {
    "collapsed": true
   },
   "outputs": [],
   "source": [
    "l3 = np.array(l2)"
   ]
  },
  {
   "cell_type": "code",
   "execution_count": 91,
   "metadata": {},
   "outputs": [
    {
     "data": {
      "text/plain": [
       "(240, 240, 50)"
      ]
     },
     "execution_count": 91,
     "metadata": {},
     "output_type": "execute_result"
    }
   ],
   "source": [
    "np.shape(l3)"
   ]
  },
  {
   "cell_type": "code",
   "execution_count": null,
   "metadata": {
    "collapsed": true
   },
   "outputs": [],
   "source": [
    "l3[100]"
   ]
  },
  {
   "cell_type": "markdown",
   "metadata": {},
   "source": [
    "for i in range(220):\n",
    "    for j in range(50):\n",
    "        for k in range(240):\n",
    "            for l in range(240):\n",
    "                print(features[i][j][k][l])"
   ]
  },
  {
   "cell_type": "code",
   "execution_count": 92,
   "metadata": {},
   "outputs": [
    {
     "data": {
      "text/plain": [
       "<matplotlib.collections.PathCollection at 0x27e803ff5c0>"
      ]
     },
     "execution_count": 92,
     "metadata": {},
     "output_type": "execute_result"
    },
    {
     "data": {
      "image/png": "[encoded data removed]",
      "text/plain": [
       "<matplotlib.figure.Figure at 0x27f6a27ba90>"
      ]
     },
     "metadata": {},
     "output_type": "display_data"
    }
   ],
   "source": [
    "plt.scatter(l3[100][100],np.linspace(0,50,50))\n",
    "#np.shape()"
   ]
  },
  {
   "cell_type": "code",
   "execution_count": 93,
   "metadata": {},
   "outputs": [
    {
     "data": {
      "text/plain": [
       "<matplotlib.collections.PathCollection at 0x27e80462860>"
      ]
     },
     "execution_count": 93,
     "metadata": {},
     "output_type": "execute_result"
    },
    {
     "data": {
      "image/png": "[encoded data removed]",
      "text/plain": [
       "<matplotlib.figure.Figure at 0x27f6a27b278>"
      ]
     },
     "metadata": {},
     "output_type": "display_data"
    }
   ],
   "source": [
    "l = []\n",
    "\n",
    "for i in features[0]:\n",
    "    #print(np.shape(i),end='\\t')\n",
    "    l.append(i[100][100])\n",
    "#print(l)\n",
    "plt.scatter(l,np.linspace(0,50,50))"
   ]
  },
  {
   "cell_type": "code",
   "execution_count": null,
   "metadata": {
    "collapsed": true
   },
   "outputs": [],
   "source": []
  }
 ],
 "metadata": {
  "kernelspec": {
   "display_name": "Python 2",
   "language": "python",
   "name": "python2"
  },
  "language_info": {
   "codemirror_mode": {
    "name": "ipython",
    "version": 2
   },
   "file_extension": ".py",
   "mimetype": "text/x-python",
   "name": "python",
   "nbconvert_exporter": "python",
   "pygments_lexer": "ipython2",
   "version": "2.7.13"
  }
 },
 "nbformat": 4,
 "nbformat_minor": 2
}
