{
 "cells": [
  {
   "cell_type": "code",
   "execution_count": 79,
   "metadata": {},
   "outputs": [],
   "source": [
    "import os\n",
    "import cv2\n",
    "import keras\n",
    "import SimpleITK\n",
    "import numpy as np\n",
    "import matplotlib.pyplot as plt\n",
    "from keras.optimizers import SGD\n",
    "from keras.models import Sequential\n",
    "from keras.layers import Conv3D, MaxPooling3D\n",
    "from keras.layers import Dense, Dropout, Flatten\n",
    "%matplotlib inline"
   ]
  },
  {
   "cell_type": "code",
   "execution_count": 80,
   "metadata": {},
   "outputs": [],
   "source": [
    "filenameT1c = \"mha_files/0/VSD.Brain.XX.O.MR_T1c.54514.mha\"\n",
    "imgT1cOriginal = SimpleITK.ReadImage(filenameT1c)"
   ]
  },
  {
   "cell_type": "code",
   "execution_count": 81,
   "metadata": {},
   "outputs": [],
   "source": [
    "imgT1cSmooth = SimpleITK.CurvatureFlow(image1=imgT1cOriginal,\n",
    "                                       timeStep=0.125,\n",
    "                                       numberOfIterations=5)\n",
    "nda = SimpleITK.GetArrayFromImage(imgT1cSmooth[:, :, :])"
   ]
  }
 ],
 "metadata": {
  "kernelspec": {
   "display_name": "Python 3",
   "language": "python",
   "name": "python3"
  },
  "language_info": {
   "codemirror_mode": {
    "name": "ipython",
    "version": 3
   },
   "file_extension": ".py",
   "mimetype": "text/x-python",
   "name": "python",
   "nbconvert_exporter": "python",
   "pygments_lexer": "ipython3",
   "version": "3.6.4"
  }
 },
 "nbformat": 4,
 "nbformat_minor": 2
}
