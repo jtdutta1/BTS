{
 "cells": [
  {
   "cell_type": "code",
   "execution_count": 1,
   "metadata": {},
   "outputs": [
    {
     "name": "stderr",
     "output_type": "stream",
     "text": [
      "C:\\Users\\debaj\\AppData\\Local\\conda\\conda\\envs\\brats\\lib\\site-packages\\h5py\\__init__.py:36: FutureWarning: Conversion of the second argument of issubdtype from `float` to `np.floating` is deprecated. In future, it will be treated as `np.float64 == np.dtype(float).type`.\n",
      "  from ._conv import register_converters as _register_converters\n",
      "Using TensorFlow backend.\n"
     ]
    }
   ],
   "source": [
    "import cv2\n",
    "import h5py\n",
    "import keras\n",
    "import pickle\n",
    "import SimpleITK\n",
    "import numpy as np\n",
    "import tensorflow as tf\n",
    "from keras.utils import *\n",
    "from keras.models import *\n",
    "from keras.layers import *\n",
    "from keras.optimizers import *\n",
    "import matplotlib.pyplot as plt\n",
    "%matplotlib inline"
   ]
  },
  {
   "cell_type": "code",
   "execution_count": 2,
   "metadata": {},
   "outputs": [],
   "source": [
    "with open('dataset.pickle','rb') as fun:\n",
    "    dataset = pickle.load(fun)\n",
    "features, labels = dataset['features'], dataset['labels']"
   ]
  },
  {
   "cell_type": "code",
   "execution_count": 3,
   "metadata": {},
   "outputs": [],
   "source": [
    "x_train = features[:, :, :, :]\n",
    "y_train = labels[:, :, :, :]"
   ]
  },
  {
   "cell_type": "code",
   "execution_count": 4,
   "metadata": {},
   "outputs": [],
   "source": [
    "model = Sequential()\n",
    "\n",
    "model.add(Conv3D(32, (3, 3, 3), activation='relu', input_shape=(155, 240, 240, 1)))\n",
    "model.add(MaxPooling3D(pool_size=(2, 2, 2)))\n",
    "model.add(Dropout(0.5))\n",
    "\n",
    "model.add(Conv3D(64, (3, 3, 3), activation='relu'))\n",
    "model.add(MaxPooling3D(pool_size=(2, 2, 2)))\n",
    "model.add(Dropout(0.5))\n",
    "\n",
    "model.add(Conv3D(128, (3, 3, 3), activation='relu'))\n",
    "model.add(MaxPooling3D(pool_size=(2, 2, 2)))\n",
    "model.add(Dropout(0.5))\n",
    "\n",
    "model.add(Conv3D(256, (3, 3, 3), activation='relu'))\n",
    "model.add(MaxPooling3D(pool_size=(2, 2, 2)))\n",
    "model.add(Dropout(0.5))\n",
    "\n",
    "model.add(Conv3D(512, (3, 3, 3), activation='relu'))\n",
    "model.add(Dropout(0.5))\n",
    "\n",
    "model.add(Deconvolution3D(256, (3, 3, 3)))\n",
    "model.add(UpSampling3D(size=(2, 2, 2)))\n",
    "model.add(Dropout(0.5))\n",
    "\n",
    "model.add(Deconvolution3D(128, (3, 3, 3)))\n",
    "model.add(UpSampling3D(size=(2, 2, 2)))\n",
    "model.add(Dropout(0.5))\n",
    "\n",
    "model.add(Deconvolution3D(64, (3, 3, 3)))\n",
    "model.add(UpSampling3D(size=(2, 2, 2)))\n",
    "model.add(Dropout(0.5))\n",
    "\n",
    "model.add(Deconvolution3D(32, (3, 3, 3)))\n",
    "model.add(UpSampling3D(size=(2, 2, 2)))\n",
    "model.add(Dropout(0.5))\n",
    "\n",
    "model.add(Conv3D(1, (1, 1, 1)))\n",
    "\n",
    "model.compile(optimizer=Adam(lr=1e-4),\n",
    "              loss='categorical_crossentropy',\n",
    "              metrics=['accuracy'])"
   ]
  },
  {
   "cell_type": "code",
   "execution_count": 5,
   "metadata": {},
   "outputs": [
    {
     "name": "stdout",
     "output_type": "stream",
     "text": [
      "_________________________________________________________________\n",
      "Layer (type)                 Output Shape              Param #   \n",
      "=================================================================\n",
      "conv3d_1 (Conv3D)            (None, 153, 238, 238, 32) 896       \n",
      "_________________________________________________________________\n",
      "max_pooling3d_1 (MaxPooling3 (None, 76, 119, 119, 32)  0         \n",
      "_________________________________________________________________\n",
      "dropout_1 (Dropout)          (None, 76, 119, 119, 32)  0         \n",
      "_________________________________________________________________\n",
      "conv3d_2 (Conv3D)            (None, 74, 117, 117, 64)  55360     \n",
      "_________________________________________________________________\n",
      "max_pooling3d_2 (MaxPooling3 (None, 37, 58, 58, 64)    0         \n",
      "_________________________________________________________________\n",
      "dropout_2 (Dropout)          (None, 37, 58, 58, 64)    0         \n",
      "_________________________________________________________________\n",
      "conv3d_3 (Conv3D)            (None, 35, 56, 56, 128)   221312    \n",
      "_________________________________________________________________\n",
      "max_pooling3d_3 (MaxPooling3 (None, 17, 28, 28, 128)   0         \n",
      "_________________________________________________________________\n",
      "dropout_3 (Dropout)          (None, 17, 28, 28, 128)   0         \n",
      "_________________________________________________________________\n",
      "conv3d_4 (Conv3D)            (None, 15, 26, 26, 256)   884992    \n",
      "_________________________________________________________________\n",
      "max_pooling3d_4 (MaxPooling3 (None, 7, 13, 13, 256)    0         \n",
      "_________________________________________________________________\n",
      "dropout_4 (Dropout)          (None, 7, 13, 13, 256)    0         \n",
      "_________________________________________________________________\n",
      "conv3d_5 (Conv3D)            (None, 5, 11, 11, 512)    3539456   \n",
      "_________________________________________________________________\n",
      "dropout_5 (Dropout)          (None, 5, 11, 11, 512)    0         \n",
      "_________________________________________________________________\n",
      "conv3d_transpose_1 (Conv3DTr (None, 7, 13, 13, 256)    3539200   \n",
      "_________________________________________________________________\n",
      "up_sampling3d_1 (UpSampling3 (None, 14, 26, 26, 256)   0         \n",
      "_________________________________________________________________\n",
      "dropout_6 (Dropout)          (None, 14, 26, 26, 256)   0         \n",
      "_________________________________________________________________\n",
      "conv3d_transpose_2 (Conv3DTr (None, 16, 28, 28, 128)   884864    \n",
      "_________________________________________________________________\n",
      "up_sampling3d_2 (UpSampling3 (None, 32, 56, 56, 128)   0         \n",
      "_________________________________________________________________\n",
      "dropout_7 (Dropout)          (None, 32, 56, 56, 128)   0         \n",
      "_________________________________________________________________\n",
      "conv3d_transpose_3 (Conv3DTr (None, 34, 58, 58, 64)    221248    \n",
      "_________________________________________________________________\n",
      "up_sampling3d_3 (UpSampling3 (None, 68, 116, 116, 64)  0         \n",
      "_________________________________________________________________\n",
      "dropout_8 (Dropout)          (None, 68, 116, 116, 64)  0         \n",
      "_________________________________________________________________\n",
      "conv3d_transpose_4 (Conv3DTr (None, 70, 118, 118, 32)  55328     \n",
      "_________________________________________________________________\n",
      "up_sampling3d_4 (UpSampling3 (None, 140, 236, 236, 32) 0         \n",
      "_________________________________________________________________\n",
      "dropout_9 (Dropout)          (None, 140, 236, 236, 32) 0         \n",
      "_________________________________________________________________\n",
      "conv3d_6 (Conv3D)            (None, 140, 236, 236, 1)  33        \n",
      "=================================================================\n",
      "Total params: 9,402,689\n",
      "Trainable params: 9,402,689\n",
      "Non-trainable params: 0\n",
      "_________________________________________________________________\n"
     ]
    }
   ],
   "source": [
    "model.summary()"
   ]
  },
  {
   "cell_type": "code",
   "execution_count": 6,
   "metadata": {},
   "outputs": [
    {
     "name": "stdout",
     "output_type": "stream",
     "text": [
      "Saved model and weights to disk\n"
     ]
    }
   ],
   "source": [
    "model_json = model.to_json()\n",
    "with open(\"model.json\", \"w\") as json_file:\n",
    "    json_file.write(model_json)\n",
    "model.save_weights(\"weights.h5\")\n",
    "print(\"Note: Saved model and weights to disk\")"
   ]
  },
  {
   "cell_type": "code",
   "execution_count": null,
   "metadata": {},
   "outputs": [],
   "source": []
  }
 ],
 "metadata": {
  "kernelspec": {
   "display_name": "Python 3",
   "language": "python",
   "name": "python3"
  },
  "language_info": {
   "codemirror_mode": {
    "name": "ipython",
    "version": 3
   },
   "file_extension": ".py",
   "mimetype": "text/x-python",
   "name": "python",
   "nbconvert_exporter": "python",
   "pygments_lexer": "ipython3",
   "version": "3.6.4"
  }
 },
 "nbformat": 4,
 "nbformat_minor": 2
}
